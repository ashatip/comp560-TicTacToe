{
 "cells": [
  {
   "cell_type": "code",
   "execution_count": 1,
   "metadata": {},
   "outputs": [],
   "source": [
    "import numpy as np\n",
    "import random"
   ]
  },
  {
   "cell_type": "code",
   "execution_count": 2,
   "metadata": {},
   "outputs": [],
   "source": [
    "trial1=100\n",
    "trial2=500\n",
    "trial3=1000"
   ]
  },
  {
   "cell_type": "code",
   "execution_count": 3,
   "metadata": {},
   "outputs": [
    {
     "data": {
      "text/plain": [
       "64"
      ]
     },
     "execution_count": 3,
     "metadata": {},
     "output_type": "execute_result"
    }
   ],
   "source": [
    "4*4*4"
   ]
  },
  {
   "cell_type": "code",
   "execution_count": 231,
   "metadata": {},
   "outputs": [],
   "source": [
    "#x_board or o_board is the different grib positions\n",
    "#x_score and o_score is the utility values "
   ]
  },
  {
   "cell_type": "code",
   "execution_count": 232,
   "metadata": {},
   "outputs": [],
   "source": [
    "##TODO\n",
    "#write comments\n",
    "#do shell\n",
    "#read HW guide\n",
    "#talk to mom and dad about thanksgiving"
   ]
  },
  {
   "cell_type": "code",
   "execution_count": 233,
   "metadata": {},
   "outputs": [],
   "source": [
    "#original global declaration at top of code\n",
    "isThreeInRow = False\n",
    "threeInRowLoc = (-1,-1,-1)\n",
    "\n",
    "\n",
    "\n",
    "def setThreeInRow(val, loc):\n",
    "    global isThreeInRow\n",
    "    global threeInRowLoc\n",
    "    isThreeInRow = val\n",
    "    threeInRowLoc = loc\n",
    "\n",
    "\n",
    "\n",
    "def getThreeInRow():\n",
    "    global isThreeInRow\n",
    "    global threeInRowLoc\n",
    "    return isThreeInRow, threeInRowLoc"
   ]
  },
  {
   "cell_type": "code",
   "execution_count": 256,
   "metadata": {},
   "outputs": [],
   "source": [
    "#playes the game a number of times with a learning parameter\n",
    "def play_game(num):\n",
    "    learn_rate=.9\n",
    "    discount_rate=.95\n",
    "    x_board=[]\n",
    "    x_score=[]\n",
    "    o_board=[]\n",
    "    o_score=[]\n",
    "    for i in range(0,num):\n",
    "        grid,x_board,x_score,o_board,o_score=setupGame(x_board,x_score,o_board,o_score,learn_rate,discount_rate,print_=True,move_type=\"learn\")\n",
    "    return (x_board,x_score,o_board,o_score)"
   ]
  },
  {
   "cell_type": "code",
   "execution_count": 268,
   "metadata": {},
   "outputs": [],
   "source": [
    "#pathX or pathO is a gird with each location has a number where X and O is played\n",
    "def update_path(loc,current_path,move_num):\n",
    "    current_path[loc[0],loc[1],loc[2]]=move_num\n",
    "    return current_path\n",
    "    "
   ]
  },
  {
   "cell_type": "code",
   "execution_count": 269,
   "metadata": {},
   "outputs": [],
   "source": [
    "def setupGame(x_board,x_score,o_board,o_score,learn_rate,discount_rate,print_=False,move_type=\"learn\"):\n",
    "    ## X is .1\n",
    "    ## O is -.1\n",
    "    #setup grid\n",
    "    \n",
    "    grid=np.zeros(shape=(4,4,4),dtype=np.dtype('float64'))\n",
    "    #there can be max 64 plays\n",
    "    x_move=1\n",
    "    o_move=1\n",
    "    x_path=np.zeros(shape=(4,4,4),dtype=np.dtype('i4'))\n",
    "    o_path=np.zeros(shape=(4,4,4),dtype=np.dtype('i4'))\n",
    "    for i in range(0,32):\n",
    "        # x moves\n",
    "        if move_type==\"rand\":\n",
    "            grid,loc=rand_move(grid,.1)\n",
    "        elif move_type==\"learn\":\n",
    "            grid,loc=learn_move(grid,.1,x_board,x_score)\n",
    "        #check if game is over\n",
    "        x_path=update_path(loc,x_path,x_move)\n",
    "        x_move=x_move+1\n",
    "        solved,direction=checkWinner(grid,.1,loc)\n",
    "        if solved:\n",
    "            print(\"X wins\")\n",
    "            if print_:\n",
    "                print(\"loc= \")\n",
    "                print(loc)\n",
    "                print(\"direction= \")\n",
    "                print(direction)\n",
    "            x_board,x_score=first_update_learn(x_path.copy(),o_path.copy(),grid.copy(),\"winner\",x_board,x_score,learn_rate,discount_rate)\n",
    "            o_board,o_score=first_update_learn(o_path.copy(),x_path.copy(),grid.copy(),\"loser\",o_board,o_score,learn_rate,discount_rate)\n",
    "            return (grid,x_board,x_score,o_board,o_score)\n",
    "        # o moves\n",
    "        if move_type==\"rand\":\n",
    "            grid,loc=rand_move(grid,-.1)\n",
    "        elif move_type==\"learn\":\n",
    "            grid,loc=learn_move(grid,-.1,o_board,o_score)\n",
    "        o_path=update_path(loc,o_path,o_move)\n",
    "        o_move=o_move+1\n",
    "        solved,direction=checkWinner(grid,-.1,loc)\n",
    "        if solved:\n",
    "            print(\"O wins\")\n",
    "            if print_:\n",
    "                print(\"loc= \")\n",
    "                print(loc)\n",
    "                print(\"direction= \")\n",
    "                print(direction)\n",
    "            x_board,x_score=first_update_learn(x_path.copy(),o_path.copy(),grid.copy(),\"loser\",x_board,x_score,learn_rate,discount_rate)\n",
    "            o_board,o_score=first_update_learn(o_path.copy(),x_path.copy(),grid.copy(),\"winner\",o_board,o_score,learn_rate,discount_rate)\n",
    "            return (grid,x_board,x_score,o_board,o_score)\n",
    "    print(\"tie\")\n",
    "    x_board,x_score=first_update_learn(x_path.copy(),o_path.copy(),grid.copy(),\"tie\",x_board,x_score,learn_rate,discount_rate)\n",
    "    o_board,o_score=first_update_learn(o_path.copy(),x_path.copy(),grid.copy(),\"tie\",o_board,o_score,learn_rate,discount_rate)\n",
    "    return (grid,x_board,x_score,o_board,o_score)"
   ]
  },
  {
   "cell_type": "code",
   "execution_count": 270,
   "metadata": {},
   "outputs": [],
   "source": [
    "def rand_move(grid,sign):\n",
    "    #dummy move, used for setup testing\n",
    "    i=0\n",
    "    while(True):\n",
    "        x=random.randint(0,3)\n",
    "        y=random.randint(0,3)\n",
    "        z=random.randint(0,3)\n",
    "        if not grid[x,y,z]:\n",
    "            grid[x,y,z]=sign\n",
    "            return (grid,[x,y,z])"
   ]
  },
  {
   "cell_type": "code",
   "execution_count": 304,
   "metadata": {},
   "outputs": [],
   "source": [
    "def learn_move(grid,sign,board,score):\n",
    "    ##\n",
    "    ###dom place\n",
    "    ##\n",
    "#     isThreeInRow, threeInRowLoc=getThreeInRow()\n",
    "#     if isThreeInRow:\n",
    "#         grid[threeInRowLoc[0],threeInRowLoc[0],threeInRowLoc[0]]=sign\n",
    "#         setThreeInRow(False,(0,0,0))\n",
    "#         return (grid,threeInRowLoc)\n",
    "    ##add if find a 3 in a row for itself use it\n",
    "    ## add if it finds a opponets 3 in a row, get the place\n",
    "    ## add if it finds a possible fork, with one move, make 3 in a row without any oppent blocking it\n",
    "    ## add if it finds an oppenent possible fork, with one move the oppenent can make 3 in a row without you blocking it\n",
    "    \n",
    "    #if we are in new board: pick a random spot\n",
    "    if (len(board)==0):\n",
    "        return rand_move(grid,sign)\n",
    "    elif (np.array_equal(board,grid)):\n",
    "        new_index=0\n",
    "    new_index=np.where((board == grid).all(axis=1).all(axis=1).all(axis=1))[0]\n",
    "    if len(new_index)==0:\n",
    "        return rand_move(grid,sign)\n",
    "    else:\n",
    "        i_a,j_a,k_a=np.where(score[new_index[0]] == np.max(score[new_index[0]]))\n",
    "        x=np.random.choice(len(i_a), 1)\n",
    "        i=i_a[x][0]\n",
    "        j=j_a[x][0]\n",
    "        k=k_a[x][0]\n",
    "        grid[i,j,k]=sign\n",
    "        return (grid,[i,j,k])\n",
    "    #the moves that learns\n"
   ]
  },
  {
   "cell_type": "code",
   "execution_count": 305,
   "metadata": {},
   "outputs": [],
   "source": [
    "def checkWinner(grid,sign,loc):\n",
    "    #goes through every direction in x,y,z directions\n",
    "    spot=grid[loc[0],loc[1],loc[2]]\n",
    "    for i in [0,1]:\n",
    "        for j in [0,1]:\n",
    "            for k in [0,1]:\n",
    "                if(i==j==k==0):\n",
    "                    next\n",
    "                #some directions can have negative chooses so dealing with that\n",
    "                else:\n",
    "                    solved,direction=setDirection(grid,sign,loc,[i,j,k])\n",
    "                    if solved:\n",
    "                        return (True, direction)\n",
    "    return (False,0)"
   ]
  },
  {
   "cell_type": "code",
   "execution_count": 306,
   "metadata": {},
   "outputs": [],
   "source": [
    "#changes vector's part to negative if needed\n",
    "def setDirection(grid,sign,loc,direction):\n",
    "    #one direction, \n",
    "    if sum(direction)==1:\n",
    "        return checkDirection(grid,sign,loc,direction)\n",
    "    if sum(direction)==2:\n",
    "        #trying to find the zero\n",
    "        for i in range(0,3):\n",
    "            if direction[i]==0:\n",
    "                break\n",
    "        # i is the location of the zero:\n",
    "        # based on my studying:\n",
    "        #even direction is when both dimesions are positive\n",
    "        #odd direction is when one of the dimesions are negative\n",
    "        #based on studies:\n",
    "        ## if both the dimesions that have nonzero direction are the same then the:\n",
    "            ###direction is positive\n",
    "        ## if the dimesions that have nonzero direction have the sum of three \n",
    "            ###direction is negative\n",
    "        new_loc=loc.copy()\n",
    "        new_loc.pop(i)\n",
    "        if new_loc[0]==new_loc[1]:\n",
    "            return checkDirection(grid,sign,loc,direction)\n",
    "        elif sum(new_loc)%4==3:\n",
    "                if i==0:\n",
    "                    direction[1]=direction[1]*-1\n",
    "                else:\n",
    "                    direction[0]=direction[0]*-1\n",
    "                return checkDirection(grid,sign,loc,direction)\n",
    "        #else, it does not work for that side\n",
    "        return (False,0)\n",
    "    else:\n",
    "        #so the direction is based on where are the two equal values are located\n",
    "            ##the direction of the equal values should be the same but the other dimension\n",
    "        #direction is (1,1,1): values are all the same\n",
    "        ###if they are all not equal then there is no 3d directional diagonal\n",
    "        if len(set(loc))==1:\n",
    "            return checkDirection(grid,sign,loc,direction)\n",
    "        elif len(set(loc))==2:\n",
    "            for i in range(len(direction)):\n",
    "                new_loc=loc.copy()\n",
    "                new_loc.pop(i)\n",
    "                if len((new_loc))==1:\n",
    "                    direction[i]=direction[i]*-1\n",
    "                    break\n",
    "            if (loc[i]+loc[(i+1)%3])%4==3:        \n",
    "                return checkDirection(grid,sign,loc,direction)\n",
    "            else:\n",
    "                return (False, 0)\n",
    "        else:\n",
    "            return (False,0)\n",
    "        "
   ]
  },
  {
   "cell_type": "code",
   "execution_count": 307,
   "metadata": {},
   "outputs": [],
   "source": [
    "#updated check direction\n",
    "def checkDirection(grid,sign,loc,direction):\n",
    "    #checks if the blocks in that direction have the same sign\n",
    "    let =np.zeros(shape=(3),dtype=np.int)\n",
    "    hasBlank = False\n",
    "    for i in range(0,4):\n",
    "        for j in range(len(direction)):\n",
    "            #used mod because I did not want to check the opposite direction\n",
    "            let[j]=(direction[j]*(i)+loc[j])%4\n",
    "        if grid[let[0],let[1],let[2]]!=sign:\n",
    "            if (grid[let[0],let[1],let[2]] == 0 and not hasBlank):\n",
    "                hasBlank = True\n",
    "                blankLoc = (let[0], let[1], let[2])\n",
    "            else:\n",
    "                setThreeInRow(False, (-1,-1,-1))\n",
    "                return False,0\n",
    "\n",
    "    \n",
    "    if(hasBlank):\n",
    "        setThreeInRow(True, blankLoc)\n",
    "        return False, 0\n",
    "    else:\n",
    "        setThreeInRow(False, (-1,-1,-1))\n",
    "        return True,direction\n"
   ]
  },
  {
   "cell_type": "code",
   "execution_count": 361,
   "metadata": {},
   "outputs": [],
   "source": [
    "def q_update_learn(current_path,other_current_path,grid,board,score,learn_rate,index,discount_rate):\n",
    "    #not the starting update learn function but a recursive one\n",
    "    #find the last step of other player\n",
    "    e_a,f_a,g_a=np.where(other_current_path == np.max(other_current_path))\n",
    "    #set that spot empty to go back in time\n",
    "    e=e_a[0]\n",
    "    f=f_a[0]\n",
    "    g=g_a[0]\n",
    "    grid[e,f,g]=0\n",
    "    other_current_path[e,f,g]=0\n",
    "    \n",
    "    #find latest step\n",
    "    i_a,j_a,k_a=np.where(current_path == np.max(current_path))\n",
    "    #set that spot empty to go back in time\n",
    "    i=i_a[0]\n",
    "    j=j_a[0]\n",
    "    k=k_a[0]\n",
    "    grid[i,j,k]=0\n",
    "    current_path[i,j,k]=0\n",
    "    #go to next latest step\n",
    "    x,y,z=np.where(current_path == np.max(current_path))\n",
    "    #check if the current board is in the playing boards\n",
    "    if np.array_equal(board,grid):\n",
    "        new_index=[0]\n",
    "        print(\"this should not run\")\n",
    "    if len(board.shape)!=4:\n",
    "            board=np.append([board],[grid],axis=0)\n",
    "            cur_score=np.zeros(shape=(4,4,4),dtype=np.dtype('float64'))\n",
    "            cur_score[x,y,z]=np.max(score)*learn_rate*discount_rate\n",
    "            score=np.append([score],[cur_score],axis=0)\n",
    "            new_index=np.where((board == grid).all(axis=1).all(axis=1).all(axis=1))\n",
    "    elif len(np.where((board == grid).all(axis=1).all(axis=1).all(axis=1))[0])==0:\n",
    "            board=np.append(board,[grid],axis=0)\n",
    "            cur_score=np.zeros(shape=(4,4,4),dtype=np.dtype('float64'))\n",
    "            cur_score[x,y,z]=np.max(score[index])*learn_rate*discount_rate\n",
    "\n",
    "            score=np.append(score,[cur_score],axis=0)\n",
    "            new_index=np.where((board == grid).all(axis=1).all(axis=1).all(axis=1))\n",
    "    else:\n",
    "        new_index=np.where((board == grid).all(axis=1).all(axis=1).all(axis=1))\n",
    "        score[new_index[0]][x[0]][y[0]][z[0]]=np.max(score[index])*learn_rate*discount_rate+score[new_index[0]][x[0]][y[0]][z[0]]*(1-learn_rate)\n",
    "    if np.max(current_path)>1:\n",
    "        return q_update_learn(current_path,other_current_path,grid,board,score,learn_rate,new_index[0],discount_rate)\n",
    "    else:\n",
    "        return (board,score)"
   ]
  },
  {
   "cell_type": "code",
   "execution_count": 370,
   "metadata": {},
   "outputs": [],
   "source": [
    "#the first learning function that is called\n",
    "def first_update_learn(current_path,other_current_path,grid,status,board,score,learn_rate,discount_rate):\n",
    "    print(\"running\")\n",
    "    len_board=False\n",
    "    if not (len(board)>0):\n",
    "        index=[]\n",
    "        len_board=True\n",
    "    else:\n",
    "        index=np.where((board == grid).all(axis=1).all(axis=1).all(axis=1))\n",
    "    #if o wins, x and o played the same number of moves\n",
    "    #if x wins, x played one more move\n",
    "    #if tie, o and x played the same number\n",
    "    #alogrithm default is x wins or tie\n",
    "    if np.max(current_path)<np.max(other_current_path):\n",
    "        x,y,z=np.where(other_current_path == np.max(other_current_path))\n",
    "        grid[x[0]][y[0]][z[0]]=0\n",
    "        other_current_path[x[0]][y[0]][z[0]]=0\n",
    "    if status==\"winner\":\n",
    "        #location of the last move\n",
    "        i,j,k=np.where(current_path == np.max(current_path))\n",
    "        #checks if it is previously had an example\n",
    "\n",
    "        #if not\n",
    "        if len(index)==0:\n",
    "            #add the grid to the boards\n",
    "            if len_board:\n",
    "                board=grid.copy()\n",
    "            else:\n",
    "                board=np.append(board,[grid],axis=0)\n",
    "            #add the scoring board\n",
    "            cur_score=np.zeros(shape=(4,4,4),dtype=np.dtype('float64'))\n",
    "            cur_score[i,j,k]=1\n",
    "            if len_board:\n",
    "                score=cur_score.copy()\n",
    "                index=[0]\n",
    "            else:\n",
    "                score=np.append(score,[cur_score],axis=0)\n",
    "                index=np.where((board == grid).all(axis=1).all(axis=1).all(axis=1))\n",
    "        else:\n",
    "            if len(index[0])==0:\n",
    "                board=np.append(board,[grid],axis=0)\n",
    "                cur_score=np.zeros(shape=(4,4,4),dtype=np.dtype('float64'))\n",
    "                cur_score[i,j,k]=1\n",
    "                score=np.append(score,[cur_score],axis=0)\n",
    "                index=np.where((board == grid).all(axis=1).all(axis=1).all(axis=1))   \n",
    "            score[index[0]][i[0]][j[0]][k[0]]=score[index[0]][i[0]][j[0]][k[0]]*(1-learn_rate)+1*learn_rate*discount_rate\n",
    "        \n",
    "        return q_update_learn(current_path,other_current_path,grid,board,score,learn_rate,index[0],discount_rate)\n",
    "    #same thing as winner but instead of adding one to the score, it takes away from it \n",
    "    elif status==\"loser\":\n",
    "        i,j,k=np.where(current_path == np.max(current_path))\n",
    "        if len(index)==0:\n",
    "            if len_board:\n",
    "                board=grid.copy()\n",
    "            else:\n",
    "                board=np.append(board,[grid],axis=0)\n",
    "            cur_score=np.zeros(shape=(4,4,4),dtype=np.dtype('float64'))\n",
    "            cur_score[i,j,k]=-1\n",
    "            if len_board:\n",
    "                score=cur_score.copy()\n",
    "                index=[0]\n",
    "            else:\n",
    "                score=np.append(score,[cur_score],axis=0)\n",
    "                index=np.where((board == grid).all(axis=1).all(axis=1).all(axis=1))\n",
    "        else:\n",
    "            if len(index[0])==0:\n",
    "                board=np.append(board,[grid],axis=0)\n",
    "                cur_score=np.zeros(shape=(4,4,4),dtype=np.dtype('float64'))\n",
    "                cur_score[i,j,k]=-1\n",
    "                score=np.append(score,[cur_score],axis=0)\n",
    "                index=np.where((board == grid).all(axis=1).all(axis=1).all(axis=1))                \n",
    "            else:\n",
    "                score[index[0]][i[0]][j[0]][k[0]]=score[index[0]][i[0]][j[0]][k[0]]*(1-learn_rate)-1*learn_rate*discount_rate\n",
    "    \n",
    "        return q_update_learn(current_path,other_current_path,grid,board,score,learn_rate,index[0],discount_rate)\n",
    "    else:\n",
    "        ##tie\n",
    "        i,j,k=np.where(current_path == np.max(current_path))\n",
    "        if len(index)==0:\n",
    "            if len_board:\n",
    "                board=grid.copy()\n",
    "            else:\n",
    "                board=np.append(board,[grid],axis=0)\n",
    "            cur_score=np.zeros(shape=(4,4,4),dtype=np.dtype('float64'))\n",
    "            cur_score[i,j,k]=0\n",
    "            if len_board:\n",
    "                score=cur_score.copy()\n",
    "                index=[0]\n",
    "            else:\n",
    "                score=np.append(score,[cur_score],axis=0)\n",
    "                index=np.where((board == grid).all(axis=1).all(axis=1).all(axis=1))\n",
    "        else:\n",
    "            if len(index[0])==0:\n",
    "                board=np.append(board,[grid],axis=0)\n",
    "                cur_score=np.zeros(shape=(4,4,4),dtype=np.dtype('float64'))\n",
    "                cur_score[i,j,k]=0\n",
    "                score=np.append(score,[cur_score],axis=0)\n",
    "                index=np.where((board == grid).all(axis=1).all(axis=1).all(axis=1))   \n",
    "            score[index[0]][i[0]][j[0]][k[0]]=score[index[0]][i[0]][j[0]][k[0]]*(1-learn_rate)\n",
    "        \n",
    "        return q_update_learn(current_path,other_current_path,grid,board,score,learn_rate,index[0],discount_rate)"
   ]
  },
  {
   "cell_type": "markdown",
   "metadata": {},
   "source": [
    "test"
   ]
  },
  {
   "cell_type": "code",
   "execution_count": 371,
   "metadata": {},
   "outputs": [
    {
     "name": "stdout",
     "output_type": "stream",
     "text": [
      "O wins\n",
      "loc= \n",
      "[3, 2, 3]\n",
      "direction= \n",
      "[1, 0, 0]\n",
      "running\n",
      "running\n",
      "X wins\n",
      "loc= \n",
      "[1, 1, 1]\n",
      "direction= \n",
      "[0, 1, 0]\n",
      "running\n"
     ]
    },
    {
     "ename": "IndexError",
     "evalue": "index 1 is out of bounds for axis 0 with size 1",
     "output_type": "error",
     "traceback": [
      "\u001b[0;31m---------------------------------------------------------------------------\u001b[0m",
      "\u001b[0;31mIndexError\u001b[0m                                Traceback (most recent call last)",
      "\u001b[0;32m<ipython-input-371-449fd86d7e1a>\u001b[0m in \u001b[0;36m<module>\u001b[0;34m\u001b[0m\n\u001b[0;32m----> 1\u001b[0;31m \u001b[0mplay_game\u001b[0m\u001b[0;34m(\u001b[0m\u001b[0;36m2\u001b[0m\u001b[0;34m)\u001b[0m\u001b[0;34m\u001b[0m\u001b[0;34m\u001b[0m\u001b[0m\n\u001b[0m",
      "\u001b[0;32m<ipython-input-256-e002bc49da39>\u001b[0m in \u001b[0;36mplay_game\u001b[0;34m(num)\u001b[0m\n\u001b[1;32m      8\u001b[0m     \u001b[0mo_score\u001b[0m\u001b[0;34m=\u001b[0m\u001b[0;34m[\u001b[0m\u001b[0;34m]\u001b[0m\u001b[0;34m\u001b[0m\u001b[0;34m\u001b[0m\u001b[0m\n\u001b[1;32m      9\u001b[0m     \u001b[0;32mfor\u001b[0m \u001b[0mi\u001b[0m \u001b[0;32min\u001b[0m \u001b[0mrange\u001b[0m\u001b[0;34m(\u001b[0m\u001b[0;36m0\u001b[0m\u001b[0;34m,\u001b[0m\u001b[0mnum\u001b[0m\u001b[0;34m)\u001b[0m\u001b[0;34m:\u001b[0m\u001b[0;34m\u001b[0m\u001b[0;34m\u001b[0m\u001b[0m\n\u001b[0;32m---> 10\u001b[0;31m         \u001b[0mgrid\u001b[0m\u001b[0;34m,\u001b[0m\u001b[0mx_board\u001b[0m\u001b[0;34m,\u001b[0m\u001b[0mx_score\u001b[0m\u001b[0;34m,\u001b[0m\u001b[0mo_board\u001b[0m\u001b[0;34m,\u001b[0m\u001b[0mo_score\u001b[0m\u001b[0;34m=\u001b[0m\u001b[0msetupGame\u001b[0m\u001b[0;34m(\u001b[0m\u001b[0mx_board\u001b[0m\u001b[0;34m,\u001b[0m\u001b[0mx_score\u001b[0m\u001b[0;34m,\u001b[0m\u001b[0mo_board\u001b[0m\u001b[0;34m,\u001b[0m\u001b[0mo_score\u001b[0m\u001b[0;34m,\u001b[0m\u001b[0mlearn_rate\u001b[0m\u001b[0;34m,\u001b[0m\u001b[0mdiscount_rate\u001b[0m\u001b[0;34m,\u001b[0m\u001b[0mprint_\u001b[0m\u001b[0;34m=\u001b[0m\u001b[0;32mTrue\u001b[0m\u001b[0;34m,\u001b[0m\u001b[0mmove_type\u001b[0m\u001b[0;34m=\u001b[0m\u001b[0;34m\"learn\"\u001b[0m\u001b[0;34m)\u001b[0m\u001b[0;34m\u001b[0m\u001b[0;34m\u001b[0m\u001b[0m\n\u001b[0m\u001b[1;32m     11\u001b[0m     \u001b[0;32mreturn\u001b[0m \u001b[0;34m(\u001b[0m\u001b[0mx_board\u001b[0m\u001b[0;34m,\u001b[0m\u001b[0mx_score\u001b[0m\u001b[0;34m,\u001b[0m\u001b[0mo_board\u001b[0m\u001b[0;34m,\u001b[0m\u001b[0mo_score\u001b[0m\u001b[0;34m)\u001b[0m\u001b[0;34m\u001b[0m\u001b[0;34m\u001b[0m\u001b[0m\n",
      "\u001b[0;32m<ipython-input-269-6025c0986a2e>\u001b[0m in \u001b[0;36msetupGame\u001b[0;34m(x_board, x_score, o_board, o_score, learn_rate, discount_rate, print_, move_type)\u001b[0m\n\u001b[1;32m     27\u001b[0m                 \u001b[0mprint\u001b[0m\u001b[0;34m(\u001b[0m\u001b[0;34m\"direction= \"\u001b[0m\u001b[0;34m)\u001b[0m\u001b[0;34m\u001b[0m\u001b[0;34m\u001b[0m\u001b[0m\n\u001b[1;32m     28\u001b[0m                 \u001b[0mprint\u001b[0m\u001b[0;34m(\u001b[0m\u001b[0mdirection\u001b[0m\u001b[0;34m)\u001b[0m\u001b[0;34m\u001b[0m\u001b[0;34m\u001b[0m\u001b[0m\n\u001b[0;32m---> 29\u001b[0;31m             \u001b[0mx_board\u001b[0m\u001b[0;34m,\u001b[0m\u001b[0mx_score\u001b[0m\u001b[0;34m=\u001b[0m\u001b[0mfirst_update_learn\u001b[0m\u001b[0;34m(\u001b[0m\u001b[0mx_path\u001b[0m\u001b[0;34m.\u001b[0m\u001b[0mcopy\u001b[0m\u001b[0;34m(\u001b[0m\u001b[0;34m)\u001b[0m\u001b[0;34m,\u001b[0m\u001b[0mo_path\u001b[0m\u001b[0;34m.\u001b[0m\u001b[0mcopy\u001b[0m\u001b[0;34m(\u001b[0m\u001b[0;34m)\u001b[0m\u001b[0;34m,\u001b[0m\u001b[0mgrid\u001b[0m\u001b[0;34m.\u001b[0m\u001b[0mcopy\u001b[0m\u001b[0;34m(\u001b[0m\u001b[0;34m)\u001b[0m\u001b[0;34m,\u001b[0m\u001b[0;34m\"winner\"\u001b[0m\u001b[0;34m,\u001b[0m\u001b[0mx_board\u001b[0m\u001b[0;34m,\u001b[0m\u001b[0mx_score\u001b[0m\u001b[0;34m,\u001b[0m\u001b[0mlearn_rate\u001b[0m\u001b[0;34m,\u001b[0m\u001b[0mdiscount_rate\u001b[0m\u001b[0;34m)\u001b[0m\u001b[0;34m\u001b[0m\u001b[0;34m\u001b[0m\u001b[0m\n\u001b[0m\u001b[1;32m     30\u001b[0m             \u001b[0mo_board\u001b[0m\u001b[0;34m,\u001b[0m\u001b[0mo_score\u001b[0m\u001b[0;34m=\u001b[0m\u001b[0mfirst_update_learn\u001b[0m\u001b[0;34m(\u001b[0m\u001b[0mo_path\u001b[0m\u001b[0;34m.\u001b[0m\u001b[0mcopy\u001b[0m\u001b[0;34m(\u001b[0m\u001b[0;34m)\u001b[0m\u001b[0;34m,\u001b[0m\u001b[0mx_path\u001b[0m\u001b[0;34m.\u001b[0m\u001b[0mcopy\u001b[0m\u001b[0;34m(\u001b[0m\u001b[0;34m)\u001b[0m\u001b[0;34m,\u001b[0m\u001b[0mgrid\u001b[0m\u001b[0;34m.\u001b[0m\u001b[0mcopy\u001b[0m\u001b[0;34m(\u001b[0m\u001b[0;34m)\u001b[0m\u001b[0;34m,\u001b[0m\u001b[0;34m\"loser\"\u001b[0m\u001b[0;34m,\u001b[0m\u001b[0mo_board\u001b[0m\u001b[0;34m,\u001b[0m\u001b[0mo_score\u001b[0m\u001b[0;34m,\u001b[0m\u001b[0mlearn_rate\u001b[0m\u001b[0;34m,\u001b[0m\u001b[0mdiscount_rate\u001b[0m\u001b[0;34m)\u001b[0m\u001b[0;34m\u001b[0m\u001b[0;34m\u001b[0m\u001b[0m\n\u001b[1;32m     31\u001b[0m             \u001b[0;32mreturn\u001b[0m \u001b[0;34m(\u001b[0m\u001b[0mgrid\u001b[0m\u001b[0;34m,\u001b[0m\u001b[0mx_board\u001b[0m\u001b[0;34m,\u001b[0m\u001b[0mx_score\u001b[0m\u001b[0;34m,\u001b[0m\u001b[0mo_board\u001b[0m\u001b[0;34m,\u001b[0m\u001b[0mo_score\u001b[0m\u001b[0;34m)\u001b[0m\u001b[0;34m\u001b[0m\u001b[0;34m\u001b[0m\u001b[0m\n",
      "\u001b[0;32m<ipython-input-370-e872f1e8745f>\u001b[0m in \u001b[0;36mfirst_update_learn\u001b[0;34m(current_path, other_current_path, grid, status, board, score, learn_rate, discount_rate)\u001b[0m\n\u001b[1;32m     44\u001b[0m                 \u001b[0mscore\u001b[0m\u001b[0;34m=\u001b[0m\u001b[0mnp\u001b[0m\u001b[0;34m.\u001b[0m\u001b[0mappend\u001b[0m\u001b[0;34m(\u001b[0m\u001b[0mscore\u001b[0m\u001b[0;34m,\u001b[0m\u001b[0;34m[\u001b[0m\u001b[0mcur_score\u001b[0m\u001b[0;34m]\u001b[0m\u001b[0;34m,\u001b[0m\u001b[0maxis\u001b[0m\u001b[0;34m=\u001b[0m\u001b[0;36m0\u001b[0m\u001b[0;34m)\u001b[0m\u001b[0;34m\u001b[0m\u001b[0;34m\u001b[0m\u001b[0m\n\u001b[1;32m     45\u001b[0m                 \u001b[0mindex\u001b[0m\u001b[0;34m=\u001b[0m\u001b[0mnp\u001b[0m\u001b[0;34m.\u001b[0m\u001b[0mwhere\u001b[0m\u001b[0;34m(\u001b[0m\u001b[0;34m(\u001b[0m\u001b[0mboard\u001b[0m \u001b[0;34m==\u001b[0m \u001b[0mgrid\u001b[0m\u001b[0;34m)\u001b[0m\u001b[0;34m.\u001b[0m\u001b[0mall\u001b[0m\u001b[0;34m(\u001b[0m\u001b[0maxis\u001b[0m\u001b[0;34m=\u001b[0m\u001b[0;36m1\u001b[0m\u001b[0;34m)\u001b[0m\u001b[0;34m.\u001b[0m\u001b[0mall\u001b[0m\u001b[0;34m(\u001b[0m\u001b[0maxis\u001b[0m\u001b[0;34m=\u001b[0m\u001b[0;36m1\u001b[0m\u001b[0;34m)\u001b[0m\u001b[0;34m.\u001b[0m\u001b[0mall\u001b[0m\u001b[0;34m(\u001b[0m\u001b[0maxis\u001b[0m\u001b[0;34m=\u001b[0m\u001b[0;36m1\u001b[0m\u001b[0;34m)\u001b[0m\u001b[0;34m)\u001b[0m\u001b[0;34m\u001b[0m\u001b[0;34m\u001b[0m\u001b[0m\n\u001b[0;32m---> 46\u001b[0;31m             \u001b[0mscore\u001b[0m\u001b[0;34m[\u001b[0m\u001b[0mindex\u001b[0m\u001b[0;34m[\u001b[0m\u001b[0;36m0\u001b[0m\u001b[0;34m]\u001b[0m\u001b[0;34m]\u001b[0m\u001b[0;34m[\u001b[0m\u001b[0mi\u001b[0m\u001b[0;34m[\u001b[0m\u001b[0;36m0\u001b[0m\u001b[0;34m]\u001b[0m\u001b[0;34m]\u001b[0m\u001b[0;34m[\u001b[0m\u001b[0mj\u001b[0m\u001b[0;34m[\u001b[0m\u001b[0;36m0\u001b[0m\u001b[0;34m]\u001b[0m\u001b[0;34m]\u001b[0m\u001b[0;34m[\u001b[0m\u001b[0mk\u001b[0m\u001b[0;34m[\u001b[0m\u001b[0;36m0\u001b[0m\u001b[0;34m]\u001b[0m\u001b[0;34m]\u001b[0m\u001b[0;34m=\u001b[0m\u001b[0mscore\u001b[0m\u001b[0;34m[\u001b[0m\u001b[0mindex\u001b[0m\u001b[0;34m[\u001b[0m\u001b[0;36m0\u001b[0m\u001b[0;34m]\u001b[0m\u001b[0;34m]\u001b[0m\u001b[0;34m[\u001b[0m\u001b[0mi\u001b[0m\u001b[0;34m[\u001b[0m\u001b[0;36m0\u001b[0m\u001b[0;34m]\u001b[0m\u001b[0;34m]\u001b[0m\u001b[0;34m[\u001b[0m\u001b[0mj\u001b[0m\u001b[0;34m[\u001b[0m\u001b[0;36m0\u001b[0m\u001b[0;34m]\u001b[0m\u001b[0;34m]\u001b[0m\u001b[0;34m[\u001b[0m\u001b[0mk\u001b[0m\u001b[0;34m[\u001b[0m\u001b[0;36m0\u001b[0m\u001b[0;34m]\u001b[0m\u001b[0;34m]\u001b[0m\u001b[0;34m*\u001b[0m\u001b[0;34m(\u001b[0m\u001b[0;36m1\u001b[0m\u001b[0;34m-\u001b[0m\u001b[0mlearn_rate\u001b[0m\u001b[0;34m)\u001b[0m\u001b[0;34m+\u001b[0m\u001b[0;36m1\u001b[0m\u001b[0;34m*\u001b[0m\u001b[0mlearn_rate\u001b[0m\u001b[0;34m*\u001b[0m\u001b[0mdiscount_rate\u001b[0m\u001b[0;34m\u001b[0m\u001b[0;34m\u001b[0m\u001b[0m\n\u001b[0m\u001b[1;32m     47\u001b[0m \u001b[0;34m\u001b[0m\u001b[0m\n\u001b[1;32m     48\u001b[0m         \u001b[0;32mreturn\u001b[0m \u001b[0mq_update_learn\u001b[0m\u001b[0;34m(\u001b[0m\u001b[0mcurrent_path\u001b[0m\u001b[0;34m,\u001b[0m\u001b[0mother_current_path\u001b[0m\u001b[0;34m,\u001b[0m\u001b[0mgrid\u001b[0m\u001b[0;34m,\u001b[0m\u001b[0mboard\u001b[0m\u001b[0;34m,\u001b[0m\u001b[0mscore\u001b[0m\u001b[0;34m,\u001b[0m\u001b[0mlearn_rate\u001b[0m\u001b[0;34m,\u001b[0m\u001b[0mindex\u001b[0m\u001b[0;34m[\u001b[0m\u001b[0;36m0\u001b[0m\u001b[0;34m]\u001b[0m\u001b[0;34m,\u001b[0m\u001b[0mdiscount_rate\u001b[0m\u001b[0;34m)\u001b[0m\u001b[0;34m\u001b[0m\u001b[0;34m\u001b[0m\u001b[0m\n",
      "\u001b[0;31mIndexError\u001b[0m: index 1 is out of bounds for axis 0 with size 1"
     ]
    }
   ],
   "source": [
    "play_game(2)"
   ]
  },
  {
   "cell_type": "code",
   "execution_count": 353,
   "metadata": {},
   "outputs": [],
   "source": [
    "x=np.array( [[[[ 0. ,  0. ,  0. ,  0. ],\n",
    "          [ 0. ,  0. ,  0. ,  0. ],\n",
    "          [ 0. ,  0. ,  0. ,  0. ],\n",
    "          [ 0. ,  0. ,  0. ,  0. ]],\n",
    " \n",
    "         [[ 0. ,  0. ,  0. ,  0. ],\n",
    "          [ 0. ,  0. ,  0. ,  0. ],\n",
    "          [ 0. ,  1. ,  0. ,  0. ],\n",
    "          [ 0. ,  0. ,  0. ,  0. ]],\n",
    " \n",
    "         [[ 0. ,  0. ,  0. ,  0. ],\n",
    "          [ 0. ,  0. ,  0. ,  0. ],\n",
    "          [ 0. ,  0. ,  0. ,  0. ],\n",
    "          [ 0. ,  0. ,  0. ,  0. ]],\n",
    " \n",
    "         [[ 0. ,  0. ,  0. ,  0. ],\n",
    "          [ 0. ,  0. ,  0. ,  0. ],\n",
    "          [ 0. ,  0. ,  0. ,  0. ],\n",
    "          [ 0. ,  0. ,  0. ,  0. ]]],\n",
    "            [[[ 0. ,  0. ,  0. ,  0. ],\n",
    "          [ 0. ,  0. ,  0. ,  0. ],\n",
    "          [ 0. ,  0. ,  0. ,  0. ],\n",
    "          [ 0. ,  0. ,  0. ,  0. ]],\n",
    " \n",
    "         [[ 0. ,  0. ,  0. ,  0. ],\n",
    "          [ 0. ,  0. ,  0. ,  0. ],\n",
    "          [ 0. ,  0. ,  0. ,  0. ],\n",
    "          [ 0. ,  0. ,  0. ,  0. ]],\n",
    " \n",
    "         [[ 0. ,  0. ,  0. ,  0. ],\n",
    "          [ 0. ,  0. ,  0. ,  0. ],\n",
    "          [ 0. ,  0. ,  0. ,  0. ],\n",
    "          [ 0. ,  0. ,  0. ,  0. ]],\n",
    " \n",
    "         [[ 0. ,  0. ,  0. ,  0. ],\n",
    "          [ 0. ,  0. ,  0. ,  0. ],\n",
    "          [ 0. ,  0. ,  0. ,  0. ],\n",
    "          [ 0. ,  0. ,  0. ,  0. ]]]])"
   ]
  },
  {
   "cell_type": "code",
   "execution_count": 354,
   "metadata": {},
   "outputs": [],
   "source": [
    "z=np.max(x[0])\n",
    "learn_rate=.9\n",
    "discount_rate=.95\n",
    "x[0][0][0][0]=learn_rate*discount_rate*z"
   ]
  },
  {
   "cell_type": "code",
   "execution_count": 355,
   "metadata": {},
   "outputs": [
    {
     "data": {
      "text/plain": [
       "0.855"
      ]
     },
     "execution_count": 355,
     "metadata": {},
     "output_type": "execute_result"
    }
   ],
   "source": [
    "x[0][0][0][0]"
   ]
  },
  {
   "cell_type": "code",
   "execution_count": 181,
   "metadata": {},
   "outputs": [],
   "source": [
    "grid=np.zeros(shape=(4,4,4),dtype=np.dtype('float64'))"
   ]
  },
  {
   "cell_type": "code",
   "execution_count": 116,
   "metadata": {},
   "outputs": [],
   "source": [
    "grid[0][0][0]=0.1"
   ]
  },
  {
   "cell_type": "code",
   "execution_count": 118,
   "metadata": {},
   "outputs": [
    {
     "data": {
      "text/plain": [
       "True"
      ]
     },
     "execution_count": 118,
     "metadata": {},
     "output_type": "execute_result"
    }
   ],
   "source": [
    "grid[0][0][0]==0.1"
   ]
  },
  {
   "cell_type": "code",
   "execution_count": 190,
   "metadata": {},
   "outputs": [],
   "source": [
    "a=np.array([[1,0],[0,0]])\n",
    "b=np.array([[1,1],[1,1]])"
   ]
  },
  {
   "cell_type": "code",
   "execution_count": 197,
   "metadata": {},
   "outputs": [],
   "source": [
    "x=np.array((a,b))"
   ]
  },
  {
   "cell_type": "code",
   "execution_count": 206,
   "metadata": {},
   "outputs": [
    {
     "data": {
      "text/plain": [
       "array([[[1, 0],\n",
       "        [0, 0]],\n",
       "\n",
       "       [[1, 1],\n",
       "        [1, 1]]])"
      ]
     },
     "execution_count": 206,
     "metadata": {},
     "output_type": "execute_result"
    }
   ],
   "source": [
    "x"
   ]
  },
  {
   "cell_type": "code",
   "execution_count": 208,
   "metadata": {},
   "outputs": [
    {
     "ename": "ValueError",
     "evalue": "all the input arrays must have same number of dimensions",
     "output_type": "error",
     "traceback": [
      "\u001b[0;31m---------------------------------------------------------------------------\u001b[0m",
      "\u001b[0;31mValueError\u001b[0m                                Traceback (most recent call last)",
      "\u001b[0;32m<ipython-input-208-659a137143a4>\u001b[0m in \u001b[0;36m<module>\u001b[0;34m\u001b[0m\n\u001b[0;32m----> 1\u001b[0;31m \u001b[0mnp\u001b[0m\u001b[0;34m.\u001b[0m\u001b[0mappend\u001b[0m\u001b[0;34m(\u001b[0m\u001b[0mx\u001b[0m\u001b[0;34m,\u001b[0m\u001b[0ma\u001b[0m\u001b[0;34m,\u001b[0m\u001b[0maxis\u001b[0m\u001b[0;34m=\u001b[0m\u001b[0;36m0\u001b[0m\u001b[0;34m)\u001b[0m\u001b[0;34m\u001b[0m\u001b[0;34m\u001b[0m\u001b[0m\n\u001b[0m",
      "\u001b[0;32m~/anaconda3/lib/python3.6/site-packages/numpy/lib/function_base.py\u001b[0m in \u001b[0;36mappend\u001b[0;34m(arr, values, axis)\u001b[0m\n\u001b[1;32m   4526\u001b[0m         \u001b[0mvalues\u001b[0m \u001b[0;34m=\u001b[0m \u001b[0mravel\u001b[0m\u001b[0;34m(\u001b[0m\u001b[0mvalues\u001b[0m\u001b[0;34m)\u001b[0m\u001b[0;34m\u001b[0m\u001b[0;34m\u001b[0m\u001b[0m\n\u001b[1;32m   4527\u001b[0m         \u001b[0maxis\u001b[0m \u001b[0;34m=\u001b[0m \u001b[0marr\u001b[0m\u001b[0;34m.\u001b[0m\u001b[0mndim\u001b[0m\u001b[0;34m-\u001b[0m\u001b[0;36m1\u001b[0m\u001b[0;34m\u001b[0m\u001b[0;34m\u001b[0m\u001b[0m\n\u001b[0;32m-> 4528\u001b[0;31m     \u001b[0;32mreturn\u001b[0m \u001b[0mconcatenate\u001b[0m\u001b[0;34m(\u001b[0m\u001b[0;34m(\u001b[0m\u001b[0marr\u001b[0m\u001b[0;34m,\u001b[0m \u001b[0mvalues\u001b[0m\u001b[0;34m)\u001b[0m\u001b[0;34m,\u001b[0m \u001b[0maxis\u001b[0m\u001b[0;34m=\u001b[0m\u001b[0maxis\u001b[0m\u001b[0;34m)\u001b[0m\u001b[0;34m\u001b[0m\u001b[0;34m\u001b[0m\u001b[0m\n\u001b[0m",
      "\u001b[0;31mValueError\u001b[0m: all the input arrays must have same number of dimensions"
     ]
    }
   ],
   "source": [
    "np.append(x,[a],axis=0)"
   ]
  },
  {
   "cell_type": "code",
   "execution_count": 16,
   "metadata": {},
   "outputs": [],
   "source": [
    "#updated check direction\n",
    "def checkDirection(grid,sign,loc,direction):\n",
    "    #checks if the blocks in that direction have the same sign\n",
    "    let =np.zeros(shape=(3),dtype=np.int)\n",
    "    for i in range(0,4):\n",
    "        hasBlank = False\n",
    "        for j in range(len(direction)):\n",
    "            #used mod because I did not want to check the opposite direction\n",
    "            let[j]=(direction[j]*(i)+loc[j])%4\n",
    "        if grid[let[0],let[1],let[2]]!=sign:\n",
    "            if (grid[let[0],let[1],let[2]] == '' and not hasBlank):\n",
    "                hasBlank = True\n",
    "                blankLoc = (let[0], let[1], let[2])\n",
    "            else:\n",
    "                setThreeInRow(False, (-1,-1,-1))\n",
    "                return False,0\n",
    "\n",
    "    \n",
    "    if(hasBlank):\n",
    "        setThreeInRow(True, blankLoc)\n",
    "        return False, 0\n",
    "    else:\n",
    "        setThreeInRow(False, (-1,-1,-1))\n",
    "        return True,direction\n",
    "\n",
    "\n",
    "\n",
    "#original global declaration at top of code\n",
    "isThreeInRow = False\n",
    "threeInRowLoc = (-1,-1,-1)\n",
    "\n",
    "\n",
    "\n",
    "def setThreeInRow(val, loc):\n",
    "    global isThreeInRow\n",
    "    global threeInRowLoc\n",
    "    isThreeInRow = val\n",
    "    threeInRowLoc = loc\n",
    "\n",
    "\n",
    "\n",
    "def getThreeInRow():\n",
    "    global isThreeInRow\n",
    "    global threeInRowLoc\n",
    "    return isThreeInRow, threeInRowLoc"
   ]
  }
 ],
 "metadata": {
  "kernelspec": {
   "display_name": "Python 3",
   "language": "python",
   "name": "python3"
  },
  "language_info": {
   "codemirror_mode": {
    "name": "ipython",
    "version": 3
   },
   "file_extension": ".py",
   "mimetype": "text/x-python",
   "name": "python",
   "nbconvert_exporter": "python",
   "pygments_lexer": "ipython3",
   "version": "3.6.7"
  }
 },
 "nbformat": 4,
 "nbformat_minor": 2
}
