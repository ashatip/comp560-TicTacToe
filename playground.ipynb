{
 "cells": [
  {
   "cell_type": "code",
   "execution_count": 1,
   "metadata": {},
   "outputs": [],
   "source": [
    "import numpy as np\n",
    "import random"
   ]
  },
  {
   "cell_type": "code",
   "execution_count": 2,
   "metadata": {},
   "outputs": [],
   "source": [
    "trial1=100\n",
    "trial2=500\n",
    "trial3=1000"
   ]
  },
  {
   "cell_type": "code",
   "execution_count": 3,
   "metadata": {},
   "outputs": [
    {
     "data": {
      "text/plain": [
       "64"
      ]
     },
     "execution_count": 3,
     "metadata": {},
     "output_type": "execute_result"
    }
   ],
   "source": [
    "4*4*4"
   ]
  },
  {
   "cell_type": "code",
   "execution_count": null,
   "metadata": {},
   "outputs": [],
   "source": [
    "#x_board or o_board is the different grib positions\n",
    "#x_score and o_score is the utility values "
   ]
  },
  {
   "cell_type": "code",
   "execution_count": null,
   "metadata": {},
   "outputs": [],
   "source": [
    "#playes the game a number of times with a learning parameter\n",
    "def play_game(num,learn_rate):\n",
    "    x_board,x_score,o_board,o_score=list()\n",
    "    for i in range(0,num):\n",
    "        grid,x_board,x_score,o_board,o_score=setupGame(print_=False,move_type=\"learn\",x_board,x_score,o_board,o_score,learn_rate)\n",
    "    "
   ]
  },
  {
   "cell_type": "code",
   "execution_count": 23,
   "metadata": {},
   "outputs": [],
   "source": [
    "#pathX or pathO is a gird with each location has a number where X and O is played\n",
    "def update_path(loc,current_path,move_num):\n",
    "    current_path[loc[0],loc[1],loc[2]]=move_num\n",
    "    return current_path\n",
    "    "
   ]
  },
  {
   "cell_type": "code",
   "execution_count": null,
   "metadata": {},
   "outputs": [],
   "source": [
    "#the first learning function that is called\n",
    "def first_update_learn(current_path,grid,status,board,score,learn_rate):\n",
    "    if status=\"winner\":\n",
    "        #location of the last move\n",
    "        i,j,k=np.where(current_path == np.max(current_path))\n",
    "        #checks if it is previously had an example\n",
    "        index=np.where((board == grid).all(axis=1))\n",
    "        #if not\n",
    "        if len(index)==0:\n",
    "            #add the grid to the boards\n",
    "            board.append(grid)\n",
    "            #add the scoring board\n",
    "            cur_score=np.zeros(shape=(4,4,4),dtype=np.dtype('i4'))\n",
    "            cur_score[i,j,k]=1\n",
    "            score.append(cur_score)\n",
    "        else:\n",
    "            score[index,i,j,k]=score[index,i,j,k]+1\n",
    "        return update_learn(current_path,grid,board,score,learn_rate,index,[i,j,k])\n",
    "    #same thing as winner but instead of adding one to the score, it takes away from it \n",
    "    elif status=\"loser\":\n",
    "        i,j,k=np.where(current_path == np.max(current_path))\n",
    "        index=np.where((board == grid).all(axis=1))\n",
    "        if len(index)==0:\n",
    "            board.append(grid)\n",
    "            cur_score=np.zeros(shape=(4,4,4),dtype=np.dtype('i4'))\n",
    "            cur_score[i,j,k]=-1\n",
    "            score.append(cur_score)\n",
    "        else:\n",
    "            score[index,i,j,k]=score[index,i,j,k]-1\n",
    "        return update_learn(current_path,grid,board,score,learn_rate,index,[i,j,k])\n",
    "    else:\n",
    "        i,j,k=np.where(current_path == np.max(current_path))\n",
    "        index=np.where((board == grid).all(axis=1))\n",
    "        if len(index)==0:\n",
    "            board.append(grid)\n",
    "            cur_score=np.zeros(shape=(4,4,4),dtype=np.dtype('i4'))\n",
    "            cur_score[i,j,k]=0\n",
    "            score.append(cur_score)\n",
    "        return update_learn(current_path,grid,board,score,learn_rate,index,[i,j,k])"
   ]
  },
  {
   "cell_type": "code",
   "execution_count": null,
   "metadata": {},
   "outputs": [],
   "source": [
    "def update_learn(current_path,grid,board,score,learn_rate,index):\n",
    "    #not the starting update learn function but a recursive one\n",
    "    #find latest step\n",
    "    i,j,k=np.where(current_path == np.max(current_path))\n",
    "    #set that spot empty to go back in time\n",
    "    grid[i,j,k]=\"\"\n",
    "    current_path[i,j,k]=0\n",
    "    #go to next latest step\n",
    "    x,y,z=np.where(current_path == np.max(current_path))\n",
    "    #check if the current board is in the playing boards\n",
    "    new_index=np.where((board == grid).all(axis=1))\n",
    "    if len(new_index)==0:\n",
    "            board.append(grid)\n",
    "            cur_score=np.zeros(shape=(4,4,4),dtype=np.dtype('i4'))\n",
    "            cur_score[x,y,z]=score[index,i,j,k]*learn_rate\n",
    "            score.append(cur_score)\n",
    "    else:\n",
    "        score[new_index,x,y,z]=score[index,i,j,k]*learn_rate+score[new_index,x,y,z]\n",
    "    if np.max(current_path)==1:\n",
    "        return board,score\n",
    "    else:\n",
    "        update_learn(current_path,grid,board,score,learn_rate,new_index)"
   ]
  },
  {
   "cell_type": "code",
   "execution_count": 27,
   "metadata": {},
   "outputs": [],
   "source": [
    "def setupGame(print_=False,move_type=\"learn\",x_board,x_score,o_board,o_score,learn_rate):\n",
    "    #setup grid\n",
    "    grid=np.zeros(shape=(4,4,4),dtype=np.dtype('U25'))\n",
    "    #there can be max 64 plays\n",
    "    x_move=1\n",
    "    o_move=1\n",
    "    x_path=np.zeros(shape=(4,4,4),dtype=np.dtype('i4'))\n",
    "    o_path=np.zeros(shape=(4,4,4),dtype=np.dtype('i4'))\n",
    "    for i in range(0,64):\n",
    "        # x moves\n",
    "        if move_type==\"rand\":\n",
    "            grid,loc=rand_move(grid,\"X\")\n",
    "        elif move_type==\"learn\":\n",
    "            grid,loc=learn_move(grid,\"X\",x_board,x_score)\n",
    "        #check if game is over\n",
    "        x_path=update_path(loc,x_path,x_move)\n",
    "        x_move=x_move+1\n",
    "        solved,direction=checkWinner(grid,\"X\",loc)\n",
    "        if solved:\n",
    "            print(\"X wins\")\n",
    "            if print_:\n",
    "                print(\"loc= \")\n",
    "                print(loc)\n",
    "                print(\"direction= \")\n",
    "                print(direction)\n",
    "            x_board,x_score=first_update_learn(x_path,grid.copy(),\"winner\",x_board,x_score,learn_rate)\n",
    "            o_board,o_score=first_update_learn(o_path,grid.copy(),\"loser\",o_board,o_score,learn_rate)\n",
    "            return grid,x_board,x_score,o_board,o_score\n",
    "        # o moves\n",
    "        if move_type==\"rand\":\n",
    "            grid,loc=rand_move(grid,\"O\")\n",
    "        elif move_type==\"learn\":\n",
    "            grid,loc=learn_move(grid,\"O\",o_board,o_score)\n",
    "        o_path=update_path(loc,o_path,o_move)\n",
    "        o_move=o_move+1\n",
    "        solved,direction=checkWinner(grid,\"O\",loc)\n",
    "        if solved:\n",
    "            print(\"O wins\")\n",
    "            if print_:\n",
    "                print(\"loc= \")\n",
    "                print(loc)\n",
    "                print(\"direction= \")\n",
    "                print(direction)\n",
    "            x_board,x_score=first_update_learn(x_path,grid.copy(),\"loser\",x_board,x_score,learn_rate)\n",
    "            o_board,o_score=first_update_learn(o_path,grid.copy(),\"winner\",o_board,o_score,learn_rate)\n",
    "            return grid,x_board,x_score,o_board,o_score\n",
    "    print(\"tie\")\n",
    "    x_board,x_score=first_update_learn(x_path,grid.copy(),\"tie\",x_board,x_score,learn_rate)\n",
    "    o_board,o_score=first_update_learn(o_path,grid.copy(),\"tie\",o_board,o_score,learn_rate)\n",
    "    return grid,x_board,x_score,o_board,o_score"
   ]
  },
  {
   "cell_type": "code",
   "execution_count": 17,
   "metadata": {},
   "outputs": [],
   "source": [
    "def rand_move(grid,sign):\n",
    "    #dummy move, used for setup testing\n",
    "    i=0\n",
    "    while(True):\n",
    "        x=random.randint(0,3)\n",
    "        y=random.randint(0,3)\n",
    "        z=random.randint(0,3)\n",
    "        if not grid[x,y,z]:\n",
    "            grid[x,y,z]=sign\n",
    "            return grid,[x,y,z]"
   ]
  },
  {
   "cell_type": "code",
   "execution_count": 18,
   "metadata": {},
   "outputs": [],
   "source": [
    "def learn_move(grid,sign,board,score):\n",
    "    ##\n",
    "    ###dom place\n",
    "    ##\n",
    "    \n",
    "    ##add if find a 3 in a row for itself use it\n",
    "    ## add if it finds a opponets 3 in a row, get the place\n",
    "    ## add if it finds a possible fork, with one move, make 3 in a row without any oppent blocking it\n",
    "    ## add if it finds an oppenent possible fork, with one move the oppenent can make 3 in a row without you blocking it\n",
    "    \n",
    "    #if we are in new board: pick a random spot\n",
    "    if len(np.where((board == grid).all(axis=1)))==0:\n",
    "        return rand_move(grid,sign)\n",
    "    else:\n",
    "        \n",
    "    #the moves that learns\n",
    "\n",
    "    i=0\n",
    "    while(True):\n",
    "        x=random.randint(0,3)\n",
    "        y=random.randint(0,3)\n",
    "        z=random.randint(0,3)\n",
    "        if not grid[x,y,z]:\n",
    "            grid[x,y,z]=sign\n",
    "            return grid,[x,y,z]"
   ]
  },
  {
   "cell_type": "code",
   "execution_count": 19,
   "metadata": {},
   "outputs": [],
   "source": [
    "def checkWinner(grid,sign,loc):\n",
    "    #goes through every direction in x,y,z directions\n",
    "    spot=grid[loc[0],loc[1],loc[2]]\n",
    "    for i in [0,1]:\n",
    "        for j in [0,1]:\n",
    "            for k in [0,1]:\n",
    "                if(i==j==k==0):\n",
    "                    next\n",
    "                #some directions can have negative chooses so dealing with that\n",
    "                else:\n",
    "                    solved,direction=setDirection(grid,sign,loc,[i,j,k])\n",
    "                    if solved:\n",
    "                        return True, direction\n",
    "    return False,0"
   ]
  },
  {
   "cell_type": "code",
   "execution_count": 20,
   "metadata": {},
   "outputs": [],
   "source": [
    "#changes vector's part to negative if needed\n",
    "def setDirection(grid,sign,loc,direction):\n",
    "    #one direction, \n",
    "    if sum(direction)==1:\n",
    "        return checkDirection(grid,sign,loc,direction)\n",
    "    if sum(direction)==2:\n",
    "        #trying to find the zero\n",
    "        for i in range(0,3):\n",
    "            if direction[i]==0:\n",
    "                break\n",
    "        # i is the location of the zero:\n",
    "        # based on my studying:\n",
    "        #even direction is when both dimesions are positive\n",
    "        #odd direction is when one of the dimesions are negative\n",
    "        #based on studies:\n",
    "        ## if both the dimesions that have nonzero direction are the same then the:\n",
    "            ###direction is positive\n",
    "        ## if the dimesions that have nonzero direction have the sum of three \n",
    "            ###direction is negative\n",
    "        new_loc=loc.copy()\n",
    "        new_loc.pop(i)\n",
    "        if new_loc[0]==new_loc[1]:\n",
    "            return checkDirection(grid,sign,loc,direction)\n",
    "        elif sum(new_loc)%4==3:\n",
    "                if i==0:\n",
    "                    direction[1]=direction[1]*-1\n",
    "                else:\n",
    "                    direction[0]=direction[0]*-1\n",
    "                return checkDirection(grid,sign,loc,direction)\n",
    "        #else, it does not work for that side\n",
    "        return False,0\n",
    "    else:\n",
    "        #so the direction is based on where are the two equal values are located\n",
    "            ##the direction of the equal values should be the same but the other dimension\n",
    "        #direction is (1,1,1): values are all the same\n",
    "        ###if they are all not equal then there is no 3d directional diagonal\n",
    "        if len(set(loc))==1:\n",
    "            return checkDirection(grid,sign,loc,direction)\n",
    "        elif len(set(loc))==2:\n",
    "            for i in range(len(direction)):\n",
    "                new_loc=loc.copy()\n",
    "                new_loc.pop(i)\n",
    "                if len(set(new_loc))==1:\n",
    "                    direction[i]=direction[i]*-1\n",
    "                    break\n",
    "            if (loc[i]+loc[(i+1)%3])%4==3:        \n",
    "                return checkDirection(grid,sign,loc,direction)\n",
    "            else:\n",
    "                return False, 0\n",
    "        else:\n",
    "            return False,0\n",
    "        "
   ]
  },
  {
   "cell_type": "code",
   "execution_count": 21,
   "metadata": {},
   "outputs": [],
   "source": [
    "def checkDirection(grid,sign,loc,direction):\n",
    "    #checks if the blocks in that direction have the same sign\n",
    "    let =np.zeros(shape=(3),dtype=np.int)\n",
    "    for i in range(0,4):\n",
    "        for j in range(len(direction)):\n",
    "            #used mod because I did not want to check the opposite direction\n",
    "            let[j]=(direction[j]*(i)+loc[j])%4\n",
    "        if grid[let[0],let[1],let[2]]!=sign:\n",
    "            return False,0\n",
    "    let =np.zeros(shape=(3),dtype=np.int)\n",
    "    return True,direction"
   ]
  },
  {
   "cell_type": "markdown",
   "metadata": {},
   "source": [
    "test"
   ]
  },
  {
   "cell_type": "code",
   "execution_count": 39,
   "metadata": {},
   "outputs": [
    {
     "name": "stdout",
     "output_type": "stream",
     "text": [
      "X wins\n",
      "loc= \n",
      "[3, 0, 0]\n",
      "direction= \n",
      "[0, 1, 1]\n"
     ]
    }
   ],
   "source": [
    "grid,x,o=setupGame(True,\"rand\")"
   ]
  },
  {
   "cell_type": "code",
   "execution_count": 40,
   "metadata": {},
   "outputs": [
    {
     "data": {
      "text/plain": [
       "array([[[ 0,  0,  0,  0],\n",
       "        [ 2,  0,  0,  0],\n",
       "        [ 0,  0,  0,  0],\n",
       "        [10,  0,  0,  0]],\n",
       "\n",
       "       [[ 0,  0,  5,  0],\n",
       "        [ 0,  0,  7,  0],\n",
       "        [ 0,  0,  0,  0],\n",
       "        [ 0,  0,  0,  0]],\n",
       "\n",
       "       [[ 0,  0,  0,  0],\n",
       "        [ 0, 11,  6,  0],\n",
       "        [ 3,  0,  0,  0],\n",
       "        [12,  0,  0,  0]],\n",
       "\n",
       "       [[13,  0,  0,  0],\n",
       "        [ 0,  4,  0,  0],\n",
       "        [ 0,  0,  8,  0],\n",
       "        [ 1,  0,  0,  9]]], dtype=int32)"
      ]
     },
     "execution_count": 40,
     "metadata": {},
     "output_type": "execute_result"
    }
   ],
   "source": [
    "x"
   ]
  },
  {
   "cell_type": "code",
   "execution_count": 47,
   "metadata": {},
   "outputs": [
    {
     "data": {
      "text/plain": [
       "(array([3]), array([0]), array([0]))"
      ]
     },
     "execution_count": 47,
     "metadata": {},
     "output_type": "execute_result"
    }
   ],
   "source": [
    "np.where(x == np.max(x))"
   ]
  },
  {
   "cell_type": "code",
   "execution_count": 67,
   "metadata": {},
   "outputs": [
    {
     "data": {
      "text/plain": [
       "(False, 0)"
      ]
     },
     "execution_count": 67,
     "metadata": {},
     "output_type": "execute_result"
    }
   ],
   "source": [
    "loc= [3, 1, 3]\n",
    "direction= [1, -1, 1]\n",
    "\n",
    "x=np.array([[['O W', '', '', 'O'],\n",
    "        ['', '', '', ''],\n",
    "        ['O', '', '', 'X'],\n",
    "        ['', '', '', '']],\n",
    "\n",
    "       [['X', '', '', ''],\n",
    "        ['', '', 'X', ''],\n",
    "        ['', '', '', ''],\n",
    "        ['X', 'O W', '', '']],\n",
    "\n",
    "       [['', '', '', ''],\n",
    "        ['', '', '', ''],\n",
    "        ['', '', 'O W', ''],\n",
    "        ['', '', '', '']],\n",
    "\n",
    "       [['', '', 'X', ''],\n",
    "        ['', '', '', 'O S'],\n",
    "        ['', '', '', ''],\n",
    "        ['', '', 'X', '']]], dtype='<U25')\n",
    "\n",
    "\n",
    "\n",
    "checkWinner(x,\"X\",loc)"
   ]
  },
  {
   "cell_type": "code",
   "execution_count": null,
   "metadata": {},
   "outputs": [],
   "source": [
    "## 1-d direction"
   ]
  },
  {
   "cell_type": "code",
   "execution_count": null,
   "metadata": {},
   "outputs": [],
   "source": [
    "#columns"
   ]
  },
  {
   "cell_type": "code",
   "execution_count": 76,
   "metadata": {},
   "outputs": [],
   "source": [
    "sol_grid=np.zeros(shape=(4,4,4),dtype=np.dtype('U25'))\n",
    "for k in range(0,4):\n",
    "    for l in range(0,4):\n",
    "        sol_grid=np.zeros(shape=(4,4,4),dtype=np.dtype('U25'))\n",
    "        for i in range(0,4):\n",
    "            sol_grid[i,k,l]=\"X\"\n",
    "        for j in range(0,4):\n",
    "            solved, direction=checkWinner(sol_grid,\"X\",[j,k,l])\n",
    "            if not solved:\n",
    "                print(\"Problem with columns\")\n",
    "                print(sol_grid)"
   ]
  },
  {
   "cell_type": "code",
   "execution_count": null,
   "metadata": {},
   "outputs": [],
   "source": [
    "#rows"
   ]
  },
  {
   "cell_type": "code",
   "execution_count": 77,
   "metadata": {},
   "outputs": [],
   "source": [
    "sol_grid=np.zeros(shape=(4,4,4),dtype=np.dtype('U25'))\n",
    "for k in range(0,4):\n",
    "    for l in range(0,4):\n",
    "        sol_grid=np.zeros(shape=(4,4,4),dtype=np.dtype('U25'))\n",
    "        for i in range(0,4):\n",
    "            sol_grid[k,i,l]=\"X\"\n",
    "        for j in range(0,4):\n",
    "            solved, direction=checkWinner(sol_grid,\"X\",[k,i,l])\n",
    "            if not solved:\n",
    "                print(\"Problem with rows\")\n",
    "                print(sol_grid)"
   ]
  },
  {
   "cell_type": "code",
   "execution_count": null,
   "metadata": {},
   "outputs": [],
   "source": [
    "#verticals"
   ]
  },
  {
   "cell_type": "code",
   "execution_count": 78,
   "metadata": {},
   "outputs": [],
   "source": [
    "sol_grid=np.zeros(shape=(4,4,4),dtype=np.dtype('U25'))\n",
    "for k in range(0,4):\n",
    "    for l in range(0,4):\n",
    "        sol_grid=np.zeros(shape=(4,4,4),dtype=np.dtype('U25'))\n",
    "        for i in range(0,4):\n",
    "            sol_grid[l,k,i]=\"X\"\n",
    "        for j in range(0,4):\n",
    "            solved, direction=checkWinner(sol_grid,\"X\",[l,k,j])\n",
    "            if not solved:\n",
    "                print(\"Problem with columns\")\n",
    "                print(sol_grid)"
   ]
  },
  {
   "cell_type": "code",
   "execution_count": null,
   "metadata": {},
   "outputs": [],
   "source": [
    "#Done"
   ]
  },
  {
   "cell_type": "code",
   "execution_count": null,
   "metadata": {},
   "outputs": [],
   "source": [
    "#2d"
   ]
  },
  {
   "cell_type": "code",
   "execution_count": null,
   "metadata": {},
   "outputs": [],
   "source": [
    "#3d"
   ]
  },
  {
   "cell_type": "code",
   "execution_count": 140,
   "metadata": {},
   "outputs": [],
   "source": [
    "sol_grid=np.zeros(shape=(4,4,4),dtype=np.dtype('U25'))\n",
    "x=0\n",
    "y=0\n",
    "z=0\n",
    "for i in range(0,4):\n",
    "    sol_grid[x+i,y+i,z+i]=\"X\"\n",
    "for j in range(0,4):\n",
    "    solved, direction=checkWinner(sol_grid,\"X\",[j,j,j])\n",
    "    if not solved:\n",
    "        print(\"Problem with columns\")\n",
    "        print(sol_grid)\n",
    "sol_grid=np.zeros(shape=(4,4,4),dtype=np.dtype('U25'))"
   ]
  },
  {
   "cell_type": "code",
   "execution_count": 79,
   "metadata": {},
   "outputs": [],
   "source": [
    "y_sol_grid=np.zeros(shape=(4,4,4),dtype=np.str)\n",
    "for i in range(0,4):\n",
    "    y_sol_grid[0,i,0]=\"X\""
   ]
  },
  {
   "cell_type": "code",
   "execution_count": 80,
   "metadata": {},
   "outputs": [
    {
     "data": {
      "text/plain": [
       "True"
      ]
     },
     "execution_count": 80,
     "metadata": {},
     "output_type": "execute_result"
    }
   ],
   "source": [
    "checkWinner(y_sol_grid,\"X\",[0,0,0])"
   ]
  },
  {
   "cell_type": "code",
   "execution_count": 83,
   "metadata": {},
   "outputs": [],
   "source": [
    "z_sol_grid=np.zeros(shape=(4,4,4),dtype=np.str)\n",
    "for i in range(0,4):\n",
    "    z_sol_grid[0,i,0]=\"X\""
   ]
  },
  {
   "cell_type": "code",
   "execution_count": 84,
   "metadata": {},
   "outputs": [
    {
     "data": {
      "text/plain": [
       "True"
      ]
     },
     "execution_count": 84,
     "metadata": {},
     "output_type": "execute_result"
    }
   ],
   "source": [
    "checkWinner(z_sol_grid,\"X\",[0,0,0])"
   ]
  },
  {
   "cell_type": "code",
   "execution_count": null,
   "metadata": {},
   "outputs": [],
   "source": []
  }
 ],
 "metadata": {
  "kernelspec": {
   "display_name": "Python 3",
   "language": "python",
   "name": "python3"
  },
  "language_info": {
   "codemirror_mode": {
    "name": "ipython",
    "version": 3
   },
   "file_extension": ".py",
   "mimetype": "text/x-python",
   "name": "python",
   "nbconvert_exporter": "python",
   "pygments_lexer": "ipython3",
   "version": "3.6.7"
  }
 },
 "nbformat": 4,
 "nbformat_minor": 2
}
